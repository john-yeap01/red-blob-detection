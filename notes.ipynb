{
 "cells": [
  {
   "cell_type": "markdown",
   "id": "0",
   "metadata": {},
   "source": [
    "for the new settings 2:\n",
    "\n",
    "1. Point 1 has some false positives, detecting the reddish color on the crowns \n",
    "2. Point 11, image 20 should have been a detection\n",
    "3. Point 12 get lucky? Point 2, image 19?\n",
    "4. Point 3 a lot lucky, seem to be thinking noisy dark reds from the shadows\n",
    "\n",
    "\n",
    "NEED TO CHANGE THE BLOB THRESHOLD IN THE GRPH ANALYSIS also"
   ]
  },
  {
   "cell_type": "markdown",
   "id": "1",
   "metadata": {},
   "source": []
  }
 ],
 "metadata": {
  "language_info": {
   "name": "python"
  }
 },
 "nbformat": 4,
 "nbformat_minor": 5
}
