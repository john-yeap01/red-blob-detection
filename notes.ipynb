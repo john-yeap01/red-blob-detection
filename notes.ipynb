{
 "cells": [
  {
   "cell_type": "markdown",
   "id": "0",
   "metadata": {},
   "source": [
    "for the new settings 2:\n",
    "\n",
    "1. Point 1 has some false positives, detecting the reddish color on the crowns \n",
    "2. Point 11, image 20 should have been a detection\n",
    "3. Point 12 get lucky? Point 2, image 19?\n",
    "4. Point 3 a lot lucky, seem to be thinking noisy dark reds from the shadows\n",
    "\n",
    "\n",
    "NEED TO CHANGE THE BLOB THRESHOLD IN THE GRAPH ANALYSIS also"
   ]
  },
  {
   "cell_type": "markdown",
   "id": "1",
   "metadata": {},
   "source": [
    "Are the pixel counts before or after filtering in the graph analysis ipynb?\n",
    "AFter-- it is for the max blob red using opencv contours to find largest cluster connected\n"
   ]
  },
  {
   "cell_type": "markdown",
   "id": "2",
   "metadata": {},
   "source": [
    "Images that should be seen:\n",
    "\n",
    "points (12)\n",
    "\n",
    "1. \n",
    "2. y+   23  28  \n",
    "3. 25   26  27\n",
    "4. "
   ]
  }
 ],
 "metadata": {
  "language_info": {
   "name": "python"
  }
 },
 "nbformat": 4,
 "nbformat_minor": 5
}
