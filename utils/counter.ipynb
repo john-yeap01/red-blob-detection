{
 "cells": [
  {
   "cell_type": "code",
   "execution_count": null,
   "id": "0",
   "metadata": {},
   "outputs": [],
   "source": [
    "from pathlib import Path\n",
    "import cv2 as cv\n",
    "\n",
    "# --- Copy these helper functions from the script ---\n",
    "def load_bgr_drop_alpha(path):\n",
    "    img = cv.imread(str(path), cv.IMREAD_UNCHANGED)\n",
    "    if img is None:\n",
    "        raise ValueError(\"OpenCV failed to read image.\")\n",
    "    if img.ndim == 3 and img.shape[2] == 4:\n",
    "        img = img[:, :, :3]\n",
    "    return img\n",
    "\n",
    "def count_nonwhite_pixels(img, threshold_8bit):\n",
    "    import numpy as np\n",
    "    if img.dtype == np.uint16:\n",
    "        thr = int(threshold_8bit * 257)\n",
    "    elif img.dtype == np.uint8:\n",
    "        thr = threshold_8bit\n",
    "    else:\n",
    "        img = cv.normalize(img, None, 0, 255, cv.NORM_MINMAX).astype(np.uint8)\n",
    "        thr = threshold_8bit\n",
    "\n",
    "    if img.ndim == 2:\n",
    "        white_mask = img >= thr\n",
    "        total = img.size\n",
    "    else:\n",
    "        white_mask = (img >= thr).all(axis=2)\n",
    "        total = img.shape[0] * img.shape[1]\n",
    "\n",
    "    white_count = int(white_mask.sum())\n",
    "    return total - white_count\n",
    "\n",
    "# --- Test on one image ---\n",
    "img_path = Path(\"/Users/at/Orbit_Red_Blob/Data/UKE_Plot_14_DD_16_7_2025/sample_noise/DJI_0378_zoomed_25_blob.jpg\")\n",
    "img = load_bgr_drop_alpha(img_path)\n",
    "print(f\"Image size = {img.shape}\")\n",
    "nonwhite_count = count_nonwhite_pixels(img, threshold_8bit=250)\n",
    "print(f\"Non-white pixels: {nonwhite_count}\")\n"
   ]
  },
  {
   "cell_type": "code",
   "execution_count": null,
   "id": "1",
   "metadata": {},
   "outputs": [],
   "source": []
  }
 ],
 "metadata": {
  "kernelspec": {
   "display_name": "yolov8",
   "language": "python",
   "name": "python3"
  },
  "language_info": {
   "codemirror_mode": {
    "name": "ipython",
    "version": 3
   },
   "file_extension": ".py",
   "mimetype": "text/x-python",
   "name": "python",
   "nbconvert_exporter": "python",
   "pygments_lexer": "ipython3",
   "version": "3.10.18"
  }
 },
 "nbformat": 4,
 "nbformat_minor": 5
}
