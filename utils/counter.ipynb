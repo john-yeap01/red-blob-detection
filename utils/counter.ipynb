{
 "cells": [
  {
   "cell_type": "code",
   "execution_count": null,
   "id": "0",
   "metadata": {},
   "outputs": [],
   "source": [
    "from pathlib import Path\n",
    "import cv2\n",
    "import numpy as np\n",
    "\n",
    "# --- same logic as main script ---\n",
    "def red_mask_lab(img):\n",
    "    \"\"\"\n",
    "    Dummy placeholder — replace with your actual LAB thresholding function\n",
    "    from the main pipeline so results match exactly.\n",
    "    \"\"\"\n",
    "    lab = cv2.cvtColor(img, cv2.COLOR_BGR2LAB)\n",
    "    L, A, B = cv2.split(lab)\n",
    "    # Example thresholds — MUST match your main script values\n",
    "    lower_a, upper_a = 135, 140\n",
    "    lower_l, upper_l = 0, 80\n",
    "    mask_a = cv2.inRange(A, lower_a, upper_a)\n",
    "    mask_l = cv2.inRange(L, lower_l, upper_l)\n",
    "    mask = cv2.bitwise_and(mask_a, mask_l)\n",
    "    return mask\n",
    "\n",
    "def count_max_blob_area(img_path):\n",
    "    img = cv2.imread(str(img_path))\n",
    "    if img is None:\n",
    "        raise FileNotFoundError(f\"Could not read: {img_path}\")\n",
    "\n",
    "    mask = red_mask_lab(img)\n",
    "    contours, _ = cv2.findContours(mask, cv2.RETR_EXTERNAL, cv2.CHAIN_APPROX_SIMPLE)\n",
    "    max_blob_area = max([cv2.contourArea(c) for c in contours], default=0)\n",
    "    return int(max_blob_area)\n",
    "\n",
    "# --- test on folder or single image ---\n",
    "if __name__ == \"__main__\":\n",
    "    test_path = Path(\"/Users/at/Orbit_Red_Blob/Data/UKE_Plot_14_DD_16_7_2025/sample_noise\")\n",
    "    image_files = list(test_path.glob(\"*.jpg\"))\n",
    "\n",
    "    for img_path in image_files:\n",
    "        max_area = count_max_blob_area(img_path)\n",
    "        print(f\"{img_path.name}: max_blob_grey = {max_area}\")\n",
    "        \n"
   ]
  }
 ],
 "metadata": {
  "kernelspec": {
   "display_name": "yolov8",
   "language": "python",
   "name": "python3"
  },
  "language_info": {
   "codemirror_mode": {
    "name": "ipython",
    "version": 3
   },
   "file_extension": ".py",
   "mimetype": "text/x-python",
   "name": "python",
   "nbconvert_exporter": "python",
   "pygments_lexer": "ipython3",
   "version": "3.10.18"
  }
 },
 "nbformat": 4,
 "nbformat_minor": 5
}
