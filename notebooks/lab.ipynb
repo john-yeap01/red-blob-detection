{
 "cells": [
  {
   "cell_type": "code",
   "execution_count": null,
   "id": "0",
   "metadata": {},
   "outputs": [],
   "source": [
    "import cv2 as cv\n",
    "from pathlib import Path\n",
    "import numpy as np\n",
    "\n",
    "\n",
    "\n",
    "# ─ CONFIG ─────────────────────────────────────────\n",
    "BASE_DATE  = \"16_7_2025\"\n",
    "FOLDER_NAME = \"sample_fn\"\n",
    "IMAGE_NAME = \"DJI_0375_zoomed_y+.jpg\"\n",
    "BASE_PATH  = Path(f\"/Users/at/Orbit_Red_Blob/Data/UKE_Plot_14_DD_{BASE_DATE}/{FOLDER_NAME}\")\n",
    "\n",
    "img_bgr = cv.imread(str(BASE_PATH / IMAGE_NAME))\n",
    "if img_bgr is None:\n",
    "    raise FileNotFoundError(f\"Couldn’t load image: {BASE_PATH/IMAGE_NAME}\")\n",
    "\n",
    "\n",
    "\n",
    "# 1) Convert to LAB\n",
    "lab = cv.cvtColor(img_bgr, cv.COLOR_BGR2LAB)\n",
    "L, A, B = cv.split(lab)\n",
    "\n",
    "# 2) Threshold the ‘a’ channel\n",
    "#   You may need to tweak the [min, max] for your lighting.\n",
    "lower_a = 130\n",
    "upper_a = 180\n",
    "mask = cv.inRange(A, 135, 140)\n",
    "\n",
    "# 3) Clean up and visualize\n",
    "mask = cv.morphologyEx(mask, cv.MORPH_OPEN, np.ones((3,3),np.uint8))\n",
    "red_highlight = img_bgr.copy()\n",
    "red_highlight[mask>0] = (0,0,255)\n",
    "\n",
    "# cv.imshow(\"Red via LAB\", red_highlight)\n",
    "cv.imwrite(f\"{BASE_PATH}/output_lab.jpg\", red_highlight)\n",
    "# cv.waitKey(0)\n",
    "\n",
    "\n",
    "print(\"a-channel: min =\", A.min(), \"  max =\", A.max())\n",
    "print(\"a-channel 95th percentile =\", np.percentile(A, 95))\n",
    "print(\"a-channel 5th percentile =\", np.percentile(A, 5))\n"
   ]
  },
  {
   "cell_type": "code",
   "execution_count": null,
   "id": "1",
   "metadata": {},
   "outputs": [],
   "source": []
  }
 ],
 "metadata": {
  "kernelspec": {
   "display_name": "yolov8",
   "language": "python",
   "name": "python3"
  },
  "language_info": {
   "codemirror_mode": {
    "name": "ipython",
    "version": 3
   },
   "file_extension": ".py",
   "mimetype": "text/x-python",
   "name": "python",
   "nbconvert_exporter": "python",
   "pygments_lexer": "ipython3",
   "version": "3.10.18"
  }
 },
 "nbformat": 4,
 "nbformat_minor": 5
}
